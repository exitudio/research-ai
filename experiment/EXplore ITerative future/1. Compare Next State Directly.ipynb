{
 "cells": [
  {
   "cell_type": "code",
   "execution_count": 1,
   "metadata": {},
   "outputs": [],
   "source": [
    "import numpy as np\n",
    "import cv2\n",
    "import matplotlib.pyplot as plt\n",
    "from matplotlib.animation import FuncAnimation\n",
    "%matplotlib notebook\n",
    "import time\n",
    "import torch\n",
    "import torch.nn as nn\n",
    "import torch.nn.functional as F\n",
    "import torch.optim as optim\n",
    "from torch.utils.data import TensorDataset, DataLoader"
   ]
  },
  {
   "cell_type": "code",
   "execution_count": 2,
   "metadata": {},
   "outputs": [],
   "source": [
    "w,h=10,10"
   ]
  },
  {
   "cell_type": "code",
   "execution_count": 3,
   "metadata": {},
   "outputs": [],
   "source": [
    "def delete_index(T, index):\n",
    "    return torch.cat([T[:i], T[i+1:]])"
   ]
  },
  {
   "cell_type": "code",
   "execution_count": 4,
   "metadata": {},
   "outputs": [
    {
     "data": {
      "text/plain": [
       "(array([-0.11111111,  1.        ]),\n",
       " array([-1.        ,  0.11111111]),\n",
       " array([0., 0.]))"
      ]
     },
     "execution_count": 4,
     "metadata": {},
     "output_type": "execute_result"
    }
   ],
   "source": [
    "def standardize_state(state):\n",
    "    state = np.copy(state)\n",
    "    state[0] = (state[0] - ((w-1)/2)) / ((w-1)/2)\n",
    "    state[1] = (state[1] - ((h-1)/2)) / ((h-1)/2)\n",
    "    return state\n",
    "standardize_state([4., 9.]), standardize_state([0., 5.]), standardize_state([4.5, 4.5])"
   ]
  },
  {
   "cell_type": "code",
   "execution_count": 5,
   "metadata": {},
   "outputs": [
    {
     "data": {
      "text/plain": [
       "(array([4., 9.]), array([0., 5.]), array([4.5, 4.5]))"
      ]
     },
     "execution_count": 5,
     "metadata": {},
     "output_type": "execute_result"
    }
   ],
   "source": [
    "def readable_state(state):\n",
    "    state = np.copy(state)\n",
    "    state[0] = state[0] * ((w-1)/2) + ((w-1)/2)\n",
    "    state[1] = state[1] * ((h-1)/2) + ((h-1)/2)\n",
    "    return state\n",
    "readable_state(standardize_state([4., 9.])), \\\n",
    "readable_state(standardize_state([0., 5.])), \\\n",
    "readable_state(standardize_state([4.5, 4.5]))"
   ]
  },
  {
   "cell_type": "code",
   "execution_count": 6,
   "metadata": {},
   "outputs": [
    {
     "data": {
      "text/plain": [
       "array([[0., 0., 0., 0., 0., 0., 0., 0., 0., 0.],\n",
       "       [0., 0., 0., 0., 0., 0., 0., 0., 0., 0.],\n",
       "       [0., 0., 0., 0., 0., 0., 0., 0., 0., 0.],\n",
       "       [0., 0., 0., 0., 0., 0., 0., 0., 0., 0.],\n",
       "       [0., 0., 0., 0., 0., 0., 0., 0., 0., 0.],\n",
       "       [0., 0., 0., 0., 0., 1., 0., 0., 0., 0.],\n",
       "       [0., 0., 0., 0., 0., 0., 0., 0., 0., 0.],\n",
       "       [0., 0., 0., 0., 0., 0., 0., 0., 0., 0.],\n",
       "       [0., 0., 0., 0., 0., 0., 0., 0., 0., 0.],\n",
       "       [0., 0., 0., 0., 0., 0., 0., 0., 0., 0.]])"
      ]
     },
     "execution_count": 6,
     "metadata": {},
     "output_type": "execute_result"
    }
   ],
   "source": [
    "class MomentumObject:\n",
    "    def __init__(self, w, h):\n",
    "        self.w, self.h = w,h\n",
    "        self.position = np.array([w/2, h/2])\n",
    "        self.blank_state = np.zeros((w,h))\n",
    "        self.speed = np.random.randint(-2, 2, size=2)\n",
    "    def _jump_bound(self, position):\n",
    "        if position[0] >= self.w:\n",
    "            position[0] = position[0] - self.w\n",
    "        elif position[0] < 0:\n",
    "            position[0] = self.w + position[0]\n",
    "        if position[1] >= self.h:\n",
    "            position[1] = position[1] - self.w\n",
    "        elif position[1] < 0:\n",
    "            position[1] = self.h + position[1]\n",
    "    def get_state_action(self):\n",
    "        return np.concatenate((self.position, self.speed))\n",
    "    def step(self):\n",
    "        self.position += self.speed\n",
    "        self._jump_bound(self.position)\n",
    "        self.speed = np.random.randint(-2, 2, size=2)\n",
    "    def render(self, predict_position=None):\n",
    "        state = self.blank_state.copy()\n",
    "        position = np.round(self.position).astype(int)\n",
    "        state[position[0], position[1]] = 1\n",
    "        if predict_position is not None:\n",
    "            pred_x = np.round(predict_position[0]*(self.w-1)).astype(int)\n",
    "            pred_y = np.round(predict_position[1]*(self.h-1)).astype(int)\n",
    "            state[pred_x, pred_y] = 0.2\n",
    "        return state\n",
    "momentum_object = MomentumObject(w, h)\n",
    "momentum_object.render()"
   ]
  },
  {
   "cell_type": "code",
   "execution_count": 7,
   "metadata": {
    "scrolled": true
   },
   "outputs": [
    {
     "data": {
      "text/plain": [
       "tensor([[ 4.,  4., -2.,  0.],\n",
       "        [ 4.,  4.,  0.,  0.],\n",
       "        [ 6.,  4., -2.,  0.],\n",
       "        [ 7.,  6., -1., -2.],\n",
       "        [ 9.,  7., -2., -1.],\n",
       "        [ 9.,  6.,  0.,  1.],\n",
       "        [ 0.,  6., -1.,  0.],\n",
       "        [ 9.,  8.,  1., -2.],\n",
       "        [ 0.,  7., -1.,  1.],\n",
       "        [ 0.,  6.,  0.,  1.],\n",
       "        [ 9.,  5.,  1.,  1.],\n",
       "        [ 0.,  6., -1., -1.],\n",
       "        [ 2.,  8., -2., -2.],\n",
       "        [ 1.,  0.,  1., -2.],\n",
       "        [ 2.,  2., -1., -2.],\n",
       "        [ 2.,  4.,  0., -2.],\n",
       "        [ 2.,  6.,  0., -2.],\n",
       "        [ 4.,  7., -2., -1.],\n",
       "        [ 4.,  6.,  0.,  1.],\n",
       "        [ 5.,  7., -1., -1.],\n",
       "        [ 6.,  6., -1.,  1.],\n",
       "        [ 8.,  6., -2.,  0.],\n",
       "        [ 7.,  5.,  1.,  1.],\n",
       "        [ 9.,  7., -2., -2.],\n",
       "        [ 1.,  8., -2., -1.],\n",
       "        [ 3.,  8., -2.,  0.],\n",
       "        [ 4.,  8., -1.,  0.],\n",
       "        [ 5.,  0., -1., -2.],\n",
       "        [ 4.,  1.,  1., -1.],\n",
       "        [ 6.,  0., -2.,  1.],\n",
       "        [ 8.,  1., -2., -1.],\n",
       "        [ 7.,  2.,  1., -1.],\n",
       "        [ 9.,  2., -2.,  0.],\n",
       "        [ 8.,  2.,  1.,  0.],\n",
       "        [ 9.,  2., -1.,  0.],\n",
       "        [ 9.,  1.,  0.,  1.],\n",
       "        [ 0.,  0., -1.,  1.],\n",
       "        [ 0.,  2.,  0., -2.],\n",
       "        [ 1.,  4., -1., -2.],\n",
       "        [ 3.,  3., -2.,  1.],\n",
       "        [ 3.,  5.,  0., -2.],\n",
       "        [ 5.,  4., -2.,  1.],\n",
       "        [ 5.,  6.,  0., -2.],\n",
       "        [ 6.,  5., -1.,  1.],\n",
       "        [ 7.,  5., -1.,  0.],\n",
       "        [ 6.,  4.,  1.,  1.],\n",
       "        [ 7.,  5., -1., -1.],\n",
       "        [ 8.,  6., -1., -1.],\n",
       "        [ 7.,  6.,  1.,  0.],\n",
       "        [ 7.,  8.,  0., -2.],\n",
       "        [ 8.,  8., -1.,  0.],\n",
       "        [ 0.,  7., -2.,  1.],\n",
       "        [ 9.,  8.,  1., -1.],\n",
       "        [ 9.,  8.,  0.,  0.],\n",
       "        [ 1.,  8., -2.,  0.],\n",
       "        [ 0.,  0.,  1., -2.],\n",
       "        [ 2.,  1., -2., -1.],\n",
       "        [ 1.,  0.,  1.,  1.],\n",
       "        [ 1.,  0.,  0.,  0.],\n",
       "        [ 0.,  1.,  1., -1.],\n",
       "        [ 1.,  0., -1.,  1.],\n",
       "        [ 2.,  0., -1.,  0.],\n",
       "        [ 2.,  9.,  0.,  1.],\n",
       "        [ 3.,  9., -1.,  0.],\n",
       "        [ 4.,  0., -1., -1.],\n",
       "        [ 4.,  9.,  0.,  1.],\n",
       "        [ 3.,  9.,  1.,  0.],\n",
       "        [ 2.,  1.,  1., -2.],\n",
       "        [ 4.,  3., -2., -2.],\n",
       "        [ 3.,  5.,  1., -2.],\n",
       "        [ 5.,  5., -2.,  0.],\n",
       "        [ 5.,  4.,  0.,  1.],\n",
       "        [ 7.,  5., -2., -1.],\n",
       "        [ 7.,  7.,  0., -2.],\n",
       "        [ 6.,  8.,  1., -1.],\n",
       "        [ 7.,  7., -1.,  1.],\n",
       "        [ 9.,  9., -2., -2.],\n",
       "        [ 1.,  9., -2.,  0.],\n",
       "        [ 0.,  1.,  1., -2.],\n",
       "        [ 0.,  0.,  0.,  1.],\n",
       "        [ 0.,  0.,  0.,  0.],\n",
       "        [ 2.,  1., -2., -1.],\n",
       "        [ 4.,  1., -2.,  0.],\n",
       "        [ 5.,  2., -1., -1.],\n",
       "        [ 6.,  1., -1.,  1.],\n",
       "        [ 6.,  1.,  0.,  0.],\n",
       "        [ 8.,  0., -2.,  1.],\n",
       "        [ 9.,  0., -1.,  0.],\n",
       "        [ 1.,  1., -2., -1.],\n",
       "        [ 1.,  3.,  0., -2.],\n",
       "        [ 1.,  3.,  0.,  0.],\n",
       "        [ 1.,  2.,  0.,  1.],\n",
       "        [ 1.,  3.,  0., -1.],\n",
       "        [ 3.,  5., -2., -2.],\n",
       "        [ 3.,  4.,  0.,  1.],\n",
       "        [ 4.,  6., -1., -2.],\n",
       "        [ 3.,  5.,  1.,  1.],\n",
       "        [ 3.,  7.,  0., -2.],\n",
       "        [ 3.,  9.,  0., -2.],\n",
       "        [ 3.,  0.,  0., -1.],\n",
       "        [ 2.,  9.,  1.,  1.],\n",
       "        [ 4.,  9., -2.,  0.],\n",
       "        [ 3.,  1.,  1., -2.],\n",
       "        [ 3.,  2.,  0., -1.],\n",
       "        [ 3.,  3.,  0., -1.],\n",
       "        [ 2.,  2.,  1.,  1.],\n",
       "        [ 2.,  2.,  0.,  0.],\n",
       "        [ 1.,  2.,  1.,  0.],\n",
       "        [ 1.,  2.,  0.,  0.],\n",
       "        [ 1.,  2.,  0.,  0.],\n",
       "        [ 2.,  2., -1.,  0.],\n",
       "        [ 2.,  4.,  0., -2.],\n",
       "        [ 4.,  5., -2., -1.],\n",
       "        [ 5.,  7., -1., -2.],\n",
       "        [ 7.,  8., -2., -1.],\n",
       "        [ 8.,  7., -1.,  1.],\n",
       "        [ 7.,  7.,  1.,  0.],\n",
       "        [ 9.,  9., -2., -2.],\n",
       "        [ 8.,  8.,  1.,  1.],\n",
       "        [ 8.,  8.,  0.,  0.],\n",
       "        [ 7.,  7.,  1.,  1.],\n",
       "        [ 8.,  8., -1., -1.],\n",
       "        [ 0.,  0., -2., -2.],\n",
       "        [ 0.,  1.,  0., -1.],\n",
       "        [ 0.,  1.,  0.,  0.],\n",
       "        [ 2.,  1., -2.,  0.],\n",
       "        [ 4.,  2., -2., -1.],\n",
       "        [ 3.,  4.,  1., -2.]], dtype=torch.float64)"
      ]
     },
     "execution_count": 7,
     "metadata": {},
     "output_type": "execute_result"
    }
   ],
   "source": [
    "num_buffer = 128\n",
    "dimension_state = 2\n",
    "num_state = momentum_object.position.shape[0] + momentum_object.speed.shape[0]\n",
    "states_actions = torch.zeros((num_buffer, num_state))\n",
    "\n",
    "def update_state_buffer(states_actions, remove_index=None):\n",
    "    new_state_action = torch.unsqueeze(torch.tensor(momentum_object.get_state_action()), 0)\n",
    "    if remove_index is None:\n",
    "        states_actions = states_actions[:-1]\n",
    "    else:\n",
    "        states_actions = delete_index(states_actions, remove_index)\n",
    "    return torch.cat((new_state_action, states_actions))\n",
    "for i in range(num_buffer):\n",
    "    momentum_object.step()\n",
    "    states_actions=update_state_buffer(states_actions)\n",
    "states_actions"
   ]
  },
  {
   "cell_type": "code",
   "execution_count": 9,
   "metadata": {
    "scrolled": true
   },
   "outputs": [
    {
     "name": "stdout",
     "output_type": "stream",
     "text": [
      "loss[ 0 ]: tensor(0.1018, device='cuda:0', dtype=torch.float64, grad_fn=<MeanBackward0>)\n"
     ]
    }
   ],
   "source": [
    "def train(i, encoder, states_actions, optimizer_encoder):\n",
    "    encoder.train()\n",
    "    states_actions = states_actions.to(device)\n",
    "    optimizer_encoder.zero_grad()\n",
    "    \n",
    "    current_state = torch.clone(states_actions[1:]).to(device).to(device)\n",
    "    next_state = torch.clone(states_actions[:-1, :2]).to(device)\n",
    "    \n",
    "    current_state[:, 0] = current_state[:, 0] - ( (w-1)/2)\n",
    "    current_state[:, 1] = current_state[:, 1] - ((h-1)/2)\n",
    "    next_state[:, 0] = next_state[:, 0]/(w-1)\n",
    "    next_state[:, 1] = next_state[:, 1]/(h-1)\n",
    "    \n",
    "    state_prediction = encoder(current_state)\n",
    "    loss = mse_loss(state_prediction, next_state)\n",
    "    print(\"loss[\", i,\"]:\", loss.mean())\n",
    "    \n",
    "    loss.mean().backward()\n",
    "    optimizer_encoder.step()\n",
    "    \n",
    "    return torch.argmin(loss.mean(axis=1)).type(torch.int)\n",
    "    \n",
    "torch.manual_seed(1)\n",
    "device = torch.device(\"cuda\" if torch.cuda.is_available() else \"cpu\")\n",
    "encoder = nn.Sequential(\n",
    "                nn.Linear(4,16),\n",
    "                nn.ReLU(),\n",
    "                nn.Linear(16,32),\n",
    "                nn.ReLU(),\n",
    "                nn.Linear(32,8),\n",
    "                nn.ReLU(),\n",
    "                nn.Linear(8,2),\n",
    "                nn.Sigmoid()).to(device).to(torch.float64)\n",
    "\n",
    "optimizer_encoder = optim.Adam(encoder.parameters(), lr=0.001)\n",
    "mse_loss = nn.MSELoss(reduction='none')\n",
    "\n",
    "lowest_loss_index = None\n",
    "for i in range(1):\n",
    "    momentum_object.step()\n",
    "    states_actions=update_state_buffer(states_actions, lowest_loss_index)\n",
    "    lowest_loss_index = train(i, encoder, states_actions, optimizer_encoder)\n"
   ]
  },
  {
   "cell_type": "code",
   "execution_count": 11,
   "metadata": {
    "scrolled": false
   },
   "outputs": [
    {
     "name": "stderr",
     "output_type": "stream",
     "text": [
      "Traceback (most recent call last):\n",
      "  File \"/usr/lib/python3/dist-packages/matplotlib/cbook/__init__.py\", line 388, in process\n",
      "    proxy(*args, **kwargs)\n",
      "  File \"/usr/lib/python3/dist-packages/matplotlib/cbook/__init__.py\", line 228, in __call__\n",
      "    return mtd(*args, **kwargs)\n",
      "  File \"/usr/lib/python3/dist-packages/matplotlib/animation.py\", line 1081, in _start\n",
      "    self._init_draw()\n",
      "  File \"/usr/lib/python3/dist-packages/matplotlib/animation.py\", line 1792, in _init_draw\n",
      "    self._draw_frame(next(self.new_frame_seq()))\n",
      "TypeError: 'numpy.ndarray' object is not an iterator\n"
     ]
    },
    {
     "data": {
      "image/png": "[encoded data removed]",
      "text/plain": [
       "<matplotlib.figure.Figure at 0x7f266cc7f240>"
      ]
     },
     "metadata": {
      "needs_background": "light"
     },
     "output_type": "display_data"
    }
   ],
   "source": [
    "fig = plt.figure()\n",
    "im = plt.imshow(momentum_object.render(), animated=True)\n",
    "def init_func():\n",
    "    return momentum_object.render()\n",
    "def updatefig(*args):\n",
    "    position = torch.tensor([momentum_object.get_state_action()]).to(device)\n",
    "    position[:, 0] = position[:, 0] - ( (w-1)/2)\n",
    "    position[:, 1] = position[:, 1] - ((h-1)/2)\n",
    "    \n",
    "    predict_position = encoder(position).cpu().detach().numpy()[0]\n",
    "    momentum_object.step()\n",
    "    im.set_array(momentum_object.render(predict_position))\n",
    "ani = FuncAnimation(fig, updatefig, init_func, interval=500, blit=True)\n",
    "# plt.show()"
   ]
  },
  {
   "cell_type": "code",
   "execution_count": null,
   "metadata": {},
   "outputs": [],
   "source": [
    "for i in range(100):\n",
    "    momentum_object.step()\n",
    "    position = torch.tensor([momentum_object.get_state_action()]).to(device)\n",
    "    predict_position = encoder(position).cpu().detach().numpy()[0]\n",
    "    print(predict_position)\n",
    "    im.set_array(momentum_object.render(predict_position))"
   ]
  },
  {
   "cell_type": "code",
   "execution_count": null,
   "metadata": {},
   "outputs": [],
   "source": []
  }
 ],
 "metadata": {
  "kernelspec": {
   "display_name": "Python 3",
   "language": "python",
   "name": "python3"
  },
  "language_info": {
   "codemirror_mode": {
    "name": "ipython",
    "version": 3
   },
   "file_extension": ".py",
   "mimetype": "text/x-python",
   "name": "python",
   "nbconvert_exporter": "python",
   "pygments_lexer": "ipython3",
   "version": "3.6.9"
  }
 },
 "nbformat": 4,
 "nbformat_minor": 4
}
