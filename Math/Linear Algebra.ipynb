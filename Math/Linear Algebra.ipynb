{
 "cells": [
  {
   "cell_type": "code",
   "execution_count": 1,
   "metadata": {},
   "outputs": [],
   "source": [
    "import numpy as np"
   ]
  },
  {
   "cell_type": "markdown",
   "metadata": {},
   "source": [
    "# Power Iteration"
   ]
  },
  {
   "cell_type": "code",
   "execution_count": 57,
   "metadata": {},
   "outputs": [
    {
     "name": "stdout",
     "output_type": "stream",
     "text": [
      "2 [0.5 1. ]\n",
      "1.5 [0.66666667 1.        ]\n",
      "1.6666666666666665 [0.6 1. ]\n",
      "1.6 [0.625 1.   ]\n",
      "1.625 [0.61538462 1.        ]\n",
      "1.6153846153846154 [0.61904762 1.        ]\n",
      "1.619047619047619 [0.61764706 1.        ]\n",
      "1.6176470588235294 [0.61818182 1.        ]\n",
      "Eigenvalue is 1.6176470588235294\n",
      "Eigenvector is [0.61818182 1.        ]\n"
     ]
    }
   ],
   "source": [
    "# Av = lambda v\n",
    "A = np.array([[0, 1], [1, 1]])\n",
    "eigenvector = np.array([1,1])\n",
    "\n",
    "for i in range(8):\n",
    "    Av = np.dot(A, eigenvector)\n",
    "    eigenvalue = np.max(np.abs(Av))\n",
    "    eigenvector = Av/eigenvalue\n",
    "    print(eigenvalue, eigenvector)\n",
    "\n",
    "print('Eigenvalue is', eigenvalue)\n",
    "print('Eigenvector is', eigenvector)"
   ]
  },
  {
   "cell_type": "markdown",
   "metadata": {},
   "source": [
    "### can be any scaling number"
   ]
  },
  {
   "cell_type": "code",
   "execution_count": 58,
   "metadata": {},
   "outputs": [
    {
     "name": "stdout",
     "output_type": "stream",
     "text": [
      "1.5 [0.66666667 1.33333333]\n",
      "1.6666666666666665 [0.8 1.2]\n",
      "1.6 [0.75 1.25]\n",
      "1.625 [0.76923077 1.23076923]\n",
      "1.6153846153846154 [0.76190476 1.23809524]\n",
      "1.619047619047619 [0.76470588 1.23529412]\n",
      "1.6176470588235294 [0.76363636 1.23636364]\n",
      "1.6181818181818182 [0.76404494 1.23595506]\n",
      "Eigenvalue is 1.6181818181818182\n",
      "Eigenvector is [0.76404494 1.23595506]\n"
     ]
    }
   ],
   "source": [
    "# Av = lambda v\n",
    "A = np.array([[0, 1], [1, 1]])\n",
    "eigenvector = np.array([1,1])\n",
    "\n",
    "for i in range(8):\n",
    "    Av = np.dot(A, eigenvector)\n",
    "    eigenvalue = np.mean(np.abs(Av)) # <==== can be any scaling number\n",
    "    eigenvector = Av/eigenvalue\n",
    "    print(eigenvalue, eigenvector)\n",
    "\n",
    "print('Eigenvalue is', eigenvalue)\n",
    "print('Eigenvector is', eigenvector)"
   ]
  },
  {
   "cell_type": "code",
   "execution_count": 63,
   "metadata": {},
   "outputs": [
    {
     "data": {
      "text/plain": [
       "(1.6181818181818182, array([0.61818182, 1.        ]))"
      ]
     },
     "execution_count": 63,
     "metadata": {},
     "output_type": "execute_result"
    }
   ],
   "source": [
    "_max = np.max(np.abs(eigenvector))\n",
    "# scale them to be the same as infinity norm\n",
    "eigenvalue, eigenvector/_max"
   ]
  }
 ],
 "metadata": {
  "kernelspec": {
   "display_name": "Python 3",
   "language": "python",
   "name": "python3"
  },
  "language_info": {
   "codemirror_mode": {
    "name": "ipython",
    "version": 3
   },
   "file_extension": ".py",
   "mimetype": "text/x-python",
   "name": "python",
   "nbconvert_exporter": "python",
   "pygments_lexer": "ipython3",
   "version": "3.8.5"
  }
 },
 "nbformat": 4,
 "nbformat_minor": 4
}
