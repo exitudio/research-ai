{
 "cells": [
  {
   "cell_type": "code",
   "execution_count": 2,
   "metadata": {},
   "outputs": [],
   "source": [
    "import tensorflow as tf\n",
    "import numpy as np\n",
    "import torch"
   ]
  },
  {
   "cell_type": "code",
   "execution_count": 150,
   "metadata": {},
   "outputs": [
    {
     "data": {
      "text/plain": [
       "<tf.Tensor: shape=(2, 3, 3), dtype=int32, numpy=\n",
       "array([[[ 1,  2,  3],\n",
       "        [ 2,  4,  6],\n",
       "        [ 3,  6,  9]],\n",
       "\n",
       "       [[16, 20, 24],\n",
       "        [20, 25, 30],\n",
       "        [24, 30, 36]]])>"
      ]
     },
     "execution_count": 150,
     "metadata": {},
     "output_type": "execute_result"
    }
   ],
   "source": [
    "a = tf.Variable([[[1, 2, 3]], [[4, 5, 6]]], shape=[2, 1, 3])\n",
    "b = tf.Variable([[[1], [2], [3]], [[4], [5], [6]]], shape=[2, 3, 1])\n",
    "a*b"
   ]
  },
  {
   "cell_type": "markdown",
   "metadata": {},
   "source": [
    "### Outer Product"
   ]
  },
  {
   "cell_type": "code",
   "execution_count": 148,
   "metadata": {},
   "outputs": [],
   "source": [
    "a = tf.reshape( tf.Variable([[[1,2,3]], [[4,5,6]]]), [2,1,3])\n",
    "b = tf.transpose(a, perm=[0,2,1])"
   ]
  },
  {
   "cell_type": "code",
   "execution_count": 159,
   "metadata": {},
   "outputs": [
    {
     "data": {
      "text/plain": [
       "<tf.Tensor: shape=(2, 4, 3), dtype=int32, numpy=\n",
       "array([[[ 1,  2,  3],\n",
       "        [ 2,  4,  6],\n",
       "        [ 3,  6,  9],\n",
       "        [ 4,  8, 12]],\n",
       "\n",
       "       [[16, 20, 24],\n",
       "        [20, 25, 30],\n",
       "        [24, 30, 36],\n",
       "        [28, 35, 42]]])>"
      ]
     },
     "execution_count": 159,
     "metadata": {},
     "output_type": "execute_result"
    }
   ],
   "source": [
    "raw_a = tf.Variable([[1, 2, 3], [4, 5, 6]], shape=[2, 3])\n",
    "raw_b = tf.Variable([[1, 2, 3,4], [4, 5, 6,7]], shape=[2, 4])\n",
    "a = tf.expand_dims(raw_a, axis=1)\n",
    "b = tf.expand_dims(raw_b, axis=1)\n",
    "b = tf.transpose(b, perm=[0,2,1])\n",
    "a*b"
   ]
  },
  {
   "cell_type": "code",
   "execution_count": null,
   "metadata": {},
   "outputs": [],
   "source": []
  }
 ],
 "metadata": {
  "kernelspec": {
   "display_name": "Python 3",
   "language": "python",
   "name": "python3"
  },
  "language_info": {
   "codemirror_mode": {
    "name": "ipython",
    "version": 3
   },
   "file_extension": ".py",
   "mimetype": "text/x-python",
   "name": "python",
   "nbconvert_exporter": "python",
   "pygments_lexer": "ipython3",
   "version": "3.6.9"
  }
 },
 "nbformat": 4,
 "nbformat_minor": 4
}
